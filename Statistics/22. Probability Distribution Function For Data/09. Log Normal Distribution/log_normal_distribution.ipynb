
# Log Normal Distribution


---


## 🧠 What is Log-Normal Distribution?

A **Log-Normal Distribution** is a **continuous probability distribution** of a random variable whose logarithm is **normally distributed**.

In other words, if:

$$
Y = \ln(X) \sim \mathcal{N}(\mu, \sigma^2)
$$

Then:

$$
X \sim \text{Log-Normal}(\mu, \sigma^2)
$$





## 🧾 Real-Life Examples

| Scenario                              | Description                        |
|---------------------------------------|------------------------------------|
| Stock prices                          | Prices can't be negative           |
| Income distribution                   | Right-skewed with long tail        |
| Biological measures                   | e.g., cell size, survival time     |
| Time to complete a task               | Often multiplicative factors       |



## ✅ When to Use

- 📈 **When the data is positively skewed**  
  Ideal for distributions like income, stock prices, etc.

- 🚫 **When values can’t be negative**  
  Log-Normal distributions are defined only for positive real numbers.

- ✖️➕ **When you're modeling multiplicative effects**  
  Useful when outcomes result from multiplying many small positive factors.



## 📊 Properties

| Property           | Value / Formula                                         |
|--------------------|---------------------------------------------------------|
| **Distribution Type**  | Continuous                                              |
| **Support**            | $x \in (0, \infty)$                                     |
| **PDF**                | $f(x) = \frac{1}{x\sigma\sqrt{2\pi}} e^{ -\frac{(\ln x - \mu)^2}{2\sigma^2} }$ |
| **CDF**                | $F(x) = \Phi\left(\frac{\ln x - \mu}{\sigma}\right)$   |
| **Mean (μ)**           | $e^{\mu + \frac{\sigma^2}{2}}$                          |
| **Median**             | $e^\mu$                                                 |
| **Mode**               | $e^{\mu - \sigma^2}$                                    |
| **Variance (σ²)**      | $(e^{\sigma^2} - 1)e^{2\mu + \sigma^2}$                 |
| **Skewness**           | Always $> 0$ (positively skewed)                        |




## 📊 Summary

| Property            | Value                                                                 |
|---------------------|-----------------------------------------------------------------------|
| **Distribution Type**   | Continuous                                                            |
| **Support**             | $x \in (0, \infty)$                                                   |
| **Mean**                | $e^{\mu + \frac{\sigma^2}{2}}$                                       |
| **Median**              | $e^\mu$                                                              |
| **Mode**                | $e^{\mu - \sigma^2}$                                                 |
| **Variance**            | $(e^{\sigma^2} - 1)\, e^{2\mu + \sigma^2}$                           |
| **Skewness**            | Positive (right-skewed)                                              |
| **Parameters**          | $\mu$: mean of $\ln(X)$, $\sigma$: standard deviation of $\ln(X)$   |




## 💡 Key Insights

- 📈 **Log-Normal** is useful when values **cannot be negative** and **grow multiplicatively**.
- ↗️ It is **not symmetric** like the Normal Distribution — it has a **long tail on the right**.
- 🔄 Taking the **log** of a log-normal variable gives you a **normal distribution**.
- 💼 Commonly used in:
  - **Finance** (e.g., stock prices)
  - **Biology** (e.g., reaction times)
  - **Reliability engineering** (e.g., time to failure)



## 🔢 Probability Density Function (PDF)

$$
f(x; \mu, \sigma) =
\begin{cases}
\frac{1}{x \sigma \sqrt{2\pi}} \exp\left( - \frac{(\ln x - \mu)^2}{2\sigma^2} \right), & x > 0 \\
0, & x \leq 0
\end{cases}
$$






## 🛠 Python Code:
