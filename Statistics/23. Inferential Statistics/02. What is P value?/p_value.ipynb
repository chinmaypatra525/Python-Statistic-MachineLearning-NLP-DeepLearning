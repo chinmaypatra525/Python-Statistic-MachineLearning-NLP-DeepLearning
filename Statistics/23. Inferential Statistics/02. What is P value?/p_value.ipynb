{
 "cells": [
  {
   "cell_type": "markdown",
   "id": "b8fda149",
   "metadata": {},
   "source": [
    "# 🧪 Understanding the P-Value in Hypothesis Testing\n",
    "\n",
    "---\n",
    "\n",
    "## 🧠 What is a P-Value?\n",
    "\n",
    "The **p-value** is the **probability** of obtaining a test statistic as extreme as the one observed (or more extreme), **assuming the null hypothesis (H₀) is true**.\n",
    "\n",
    "In simpler terms, it tells us **how compatible** our data is with the **null hypothesis**.\n",
    "\n",
    "\n",
    "\n",
    "## 🔢 P-Value Scale\n",
    "\n",
    "| p-value | Interpretation |\n",
    "|---------|----------------|\n",
    "| p > 0.05 | Weak evidence against H₀ → **Fail to reject H₀** |\n",
    "| p ≤ 0.05 | Moderate evidence against H₀ → **Reject H₀** |\n",
    "| p ≤ 0.01 | Strong evidence against H₀ |\n",
    "| p ≤ 0.001 | Very strong evidence against H₀ |\n",
    "\n",
    "> 🎯 Common Significance Levels (α): **0.05**, **0.01**, **0.10**\n",
    "\n",
    "\n",
    "\n",
    "## 📊 P-Value Decision Rule\n",
    "\n",
    "| Condition | Decision |\n",
    "|-----------|----------|\n",
    "| **p ≤ α** | Reject the null hypothesis (H₀) |\n",
    "| **p > α** | Fail to reject the null hypothesis (H₀) |\n",
    "\n",
    "\n",
    "\n",
    "## 🎯 Example\n",
    "\n",
    "### Problem:\n",
    "A company claims the average delivery time is **less than 30 minutes**. A sample of 50 deliveries has a mean of 32 minutes with a standard deviation of 5 minutes. Is the claim valid at **α = 0.05**?\n",
    "\n",
    "### Hypotheses:\n",
    "- H₀: μ = 30 (mean delivery time is 30 minutes)\n",
    "- H₁: μ > 30 (mean delivery time is **more than** 30 minutes)\n",
    "\n",
    "### Calculation:\n",
    "Use a **one-sample t-test**:\n",
    "\n",
    "\n",
    "\n",
    "## Python Code"
   ]
  },
  {
   "cell_type": "code",
   "execution_count": 1,
   "id": "473cf525",
   "metadata": {},
   "outputs": [
    {
     "name": "stdout",
     "output_type": "stream",
     "text": [
      "T-Statistic: 2.8284271247461903\n",
      "P-Value: 0.0033792704763825343\n"
     ]
    }
   ],
   "source": [
    "from scipy import stats\n",
    "\n",
    "sample_mean = 32\n",
    "mu = 30\n",
    "std_dev = 5\n",
    "n = 50\n",
    "\n",
    "t_stat = (sample_mean - mu) / (std_dev / (n ** 0.5))\n",
    "p_value = 1 - stats.t.cdf(t_stat, df=n-1)\n",
    "\n",
    "print(\"T-Statistic:\", t_stat)\n",
    "print(\"P-Value:\", p_value)\n"
   ]
  },
  {
   "cell_type": "markdown",
   "id": "72a1a324",
   "metadata": {},
   "source": [
    "## ✅ Conclusion\n",
    "\n",
    "Since **p-value (0.0032) < α (0.05)**, we **reject the null hypothesis (H₀)**.\n",
    "\n",
    "There is **strong evidence** that the average delivery time is more than 30 minutes.\n",
    "\n",
    "\n",
    "\n",
    "## 📌 Key Insights\n",
    "\n",
    "- A **small p-value** indicates **strong evidence against H₀**.\n",
    "- A **large p-value** suggests **weak evidence against H₀** — the data is consistent with H₀.\n",
    "- The **p-value does NOT** tell you the **probability that H₀ is true**.\n",
    "- It tells you how **surprising or extreme** the observed data is **if H₀ were true**.\n",
    "\n",
    "\n",
    "\n",
    "## ⚠️ Common Misconceptions\n",
    "\n",
    "| ❌ Misconception                          | ✅ Reality                                               |\n",
    "|------------------------------------------|----------------------------------------------------------|\n",
    "| `p < 0.05 proves H₁ is true`             | No — it just provides **evidence against H₀**.          |\n",
    "| `p = 0.08 means H₀ is true`              | No — it means **we don’t have enough evidence** to reject H₀. |\n",
    "| `p-value is the probability H₀ is true`  | No — it's the **probability of observing the data** (or something more extreme) **assuming H₀ is true**. |\n",
    "\n",
    "\n",
    "\n"
   ]
  }
 ],
 "metadata": {
  "kernelspec": {
   "display_name": "base",
   "language": "python",
   "name": "python3"
  },
  "language_info": {
   "codemirror_mode": {
    "name": "ipython",
    "version": 3
   },
   "file_extension": ".py",
   "mimetype": "text/x-python",
   "name": "python",
   "nbconvert_exporter": "python",
   "pygments_lexer": "ipython3",
   "version": "3.12.7"
  }
 },
 "nbformat": 4,
 "nbformat_minor": 5
}
